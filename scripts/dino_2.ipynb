{
 "cells": [
  {
   "cell_type": "code",
   "execution_count": 1,
   "metadata": {},
   "outputs": [
    {
     "name": "stderr",
     "output_type": "stream",
     "text": [
      "/Users/edbayes/.pyenv/versions/3.10.0/lib/python3.10/site-packages/tqdm/auto.py:21: TqdmWarning: IProgress not found. Please update jupyter and ipywidgets. See https://ipywidgets.readthedocs.io/en/stable/user_install.html\n",
      "  from .autonotebook import tqdm as notebook_tqdm\n"
     ]
    },
    {
     "data": {
      "text/plain": [
       "[1, 900, 256]"
      ]
     },
     "execution_count": 1,
     "metadata": {},
     "output_type": "execute_result"
    }
   ],
   "source": [
    "from transformers import AutoProcessor, AutoModel\n",
    "from PIL import Image\n",
    "import requests\n",
    "\n",
    "url = \"http://images.cocodataset.org/val2017/000000039769.jpg\"\n",
    "image = Image.open(requests.get(url, stream=True).raw)\n",
    "text = \"a cat.\"\n",
    "\n",
    "processor = AutoProcessor.from_pretrained(\"IDEA-Research/grounding-dino-tiny\")\n",
    "model = AutoModel.from_pretrained(\"IDEA-Research/grounding-dino-tiny\")\n",
    "\n",
    "inputs = processor(images=image, text=text, return_tensors=\"pt\")\n",
    "outputs = model(**inputs)\n",
    "\n",
    "last_hidden_states = outputs.last_hidden_state\n"
   ]
  },
  {
   "cell_type": "code",
   "execution_count": 4,
   "metadata": {},
   "outputs": [
    {
     "name": "stdout",
     "output_type": "stream",
     "text": [
      "tensor([[[0.7678, 0.4134, 0.4555, 0.7304],\n",
      "         [0.2555, 0.5436, 0.4788, 0.8742],\n",
      "         [0.2551, 0.5468, 0.4783, 0.8792],\n",
      "         ...,\n",
      "         [0.7011, 0.9686, 0.1338, 0.0750],\n",
      "         [0.3809, 0.2748, 0.3417, 0.3963],\n",
      "         [0.8871, 0.0227, 0.1271, 0.0597]]])\n"
     ]
    }
   ],
   "source": [
    "print(last_hidden_states)\n",
    "#list(last_hidden_states.shape)\n",
    "\n",
    "# input_ids, \n",
    "init_reference_points = outputs.init_reference_points\n",
    "print(init_reference_points)\n",
    "\n"
   ]
  },
  {
   "cell_type": "code",
   "execution_count": 2,
   "metadata": {},
   "outputs": [
    {
     "name": "stdout",
     "output_type": "stream",
     "text": [
      "Detected 1 with confidence 0.61 at location [1835.7, 714.3, 2279.8, 1067.1]\n",
      "Detected 1 with confidence 0.57 at location [2287.8, 1258.3, 2849.4, 1675.5]\n"
     ]
    }
   ],
   "source": [
    "import torch\n",
    "from transformers import AutoProcessor, GroundingDinoForObjectDetection\n",
    "from PIL import Image\n",
    "import requests\n",
    "\n",
    "url = \"http://images.cocodataset.org/val2017/000000039769.jpg\"\n",
    "flower = \"./input/below_canopy/DJI_0017.JPG\"\n",
    "# image = Image.open(requests.get(url, stream=True).raw)\n",
    "image = Image.open(flower)\n",
    "text = \"flower. plant. fern. palm. berries.\"\n",
    "\n",
    "processor = AutoProcessor.from_pretrained(\"IDEA-Research/grounding-dino-tiny\")\n",
    "model = GroundingDinoForObjectDetection.from_pretrained(\"IDEA-Research/grounding-dino-tiny\")\n",
    "\n",
    "inputs = processor(images=image, text=text, return_tensors=\"pt\")\n",
    "outputs = model(**inputs)\n",
    "\n",
    "# convert outputs (bounding boxes and class logits) to COCO API\n",
    "target_sizes = torch.tensor([image.size[::-1]])\n",
    "results = processor.image_processor.post_process_object_detection(\n",
    "    outputs, threshold=0.35, target_sizes=target_sizes\n",
    ")[0]\n",
    "for score, label, box in zip(results[\"scores\"], results[\"labels\"], results[\"boxes\"]):\n",
    "    box = [round(i, 1) for i in box.tolist()]\n",
    "    print(f\"Detected {label.item()} with confidence \" f\"{round(score.item(), 2)} at location {box}\")"
   ]
  }
 ],
 "metadata": {
  "kernelspec": {
   "display_name": "Python 3",
   "language": "python",
   "name": "python3"
  },
  "language_info": {
   "codemirror_mode": {
    "name": "ipython",
    "version": 3
   },
   "file_extension": ".py",
   "mimetype": "text/x-python",
   "name": "python",
   "nbconvert_exporter": "python",
   "pygments_lexer": "ipython3",
   "version": "3.10.0"
  }
 },
 "nbformat": 4,
 "nbformat_minor": 2
}
