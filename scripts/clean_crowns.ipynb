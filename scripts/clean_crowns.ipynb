{
 "cells": [
  {
   "cell_type": "code",
   "execution_count": null,
   "metadata": {},
   "outputs": [],
   "source": [
    "import geopandas as gpd\n",
    "from shapely.ops import unary_union\n",
    "from shapely.geometry import Polygon\n",
    "import numpy as np\n",
    "\n",
    "# Load the annotations file\n",
    "gdf = gpd.read_file(\"./crowns_file.gpkg\")\n",
    "\n",
    "# Function to calculate similarity between two polygons\n",
    "def are_similar(poly1, poly2, threshold=0.9):\n",
    "    intersection = poly1.intersection(poly2).area\n",
    "    union = poly1.union(poly2).area\n",
    "    return (intersection / union) >= threshold\n",
    "\n",
    "# Find and merge overlapping polygons based on similarity\n",
    "def merge_overlapping_polygons(gdf, similarity_threshold=0.9):\n",
    "    merged_polygons = []\n",
    "    processed = np.zeros(len(gdf), dtype=bool)\n",
    "\n",
    "    for i, poly1 in enumerate(gdf.geometry):\n",
    "        if not processed[i]:\n",
    "            # Find all polygons that overlap with poly1 and are not processed yet\n",
    "            overlaps = [poly1]\n",
    "            for j, poly2 in enumerate(gdf.geometry):\n",
    "                if i != j and not processed[j]:\n",
    "                    if poly1.intersects(poly2) and are_similar(poly1, poly2, similarity_threshold):\n",
    "                        overlaps.append(poly2)\n",
    "                        processed[j] = True\n",
    "            # Merge all overlapping polygons\n",
    "            merged_polygon = unary_union(overlaps)\n",
    "            merged_polygons.append(merged_polygon)\n",
    "            processed[i] = True\n",
    "\n",
    "    # Create a new GeoDataFrame with merged polygons\n",
    "    return gpd.GeoDataFrame(geometry=merged_polygons, crs=gdf.crs)\n",
    "\n",
    "# Apply the merging function\n",
    "merged_gdf = merge_overlapping_polygons(gdf)\n",
    "\n",
    "# Save the merged polygons back to a file\n",
    "merged_gdf.to_file(\"./crowns_file_clean.gpkg\", driver='GPKG')"
   ]
  }
 ],
 "metadata": {
  "language_info": {
   "name": "python"
  }
 },
 "nbformat": 4,
 "nbformat_minor": 2
}
